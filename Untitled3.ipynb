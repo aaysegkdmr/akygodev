{
 "cells": [
  {
   "cell_type": "code",
   "execution_count": null,
   "id": "fc7f4927",
   "metadata": {},
   "outputs": [],
   "source": [
    "import request\n",
    "URL=\"http://colormind.io/api/' --data-binary '{\"model\":\"default\"}\"\n",
    "result=request.get(URL)\n",
    "data=result.json()\n",
    "print(data)"
   ]
  }
 ],
 "metadata": {
  "kernelspec": {
   "display_name": "Python 3 (ipykernel)",
   "language": "python",
   "name": "python3"
  },
  "language_info": {
   "codemirror_mode": {
    "name": "ipython",
    "version": 3
   },
   "file_extension": ".py",
   "mimetype": "text/x-python",
   "name": "python",
   "nbconvert_exporter": "python",
   "pygments_lexer": "ipython3",
   "version": "3.9.13"
  }
 },
 "nbformat": 4,
 "nbformat_minor": 5
}
